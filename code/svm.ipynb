{
 "cells": [
  {
   "cell_type": "markdown",
   "metadata": {},
   "source": [
    "\n",
    "![picTitle](../logo_uadb_o.png)\n",
    "## \"Financial Inclusion in Africa from Zindi Africa\"\n",
    "# LE CHALENGE C'EST QUOI ? 😎😎🙄🙄\n",
    "Lien vers la source https://zindi.africa/competitions/inclusion-financiere-en-afrique/data\n",
    "\n",
    "#### Il vous est demandé de prédire la probabilité que la personne ait un compte bancaire ou non (Oui = 1, Non = 0), pour chaque identifiant unique dans l’ensemble de données de test. Vous formerez votre modèle sur 70% des données et testerez votre modèle sur les 30% dernières données, dans quatre pays d’Afrique de l’Est – le Kenya, le Rwanda, la Tanzanie et l’Ouganda."
   ]
  },
  {
   "cell_type": "markdown",
   "metadata": {},
   "source": [
    "# On y va !"
   ]
  },
  {
   "cell_type": "markdown",
   "metadata": {},
   "source": [
    "#### La première étape consiste à séparer les variables indépendantes et la cible (bank_account) des données de formation. Ensuite, on transforme les valeurs cibles du type de données objet en valeurs numériques en utilisant [LabelEncoder] (https://towardsdatascience.com/categorical-encoding-using-label-encoding-and-one-hot-encoder-911ef77fb5bd)."
   ]
  },
  {
   "cell_type": "markdown",
   "metadata": {},
   "source": [
    "## 1. On importe les modules et librairies necessaires"
   ]
  },
  {
   "cell_type": "code",
   "execution_count": 35,
   "metadata": {},
   "outputs": [],
   "source": [
    "import pandas as pd\n",
    "from sklearn.preprocessing import LabelEncoder\n",
    "from sklearn.metrics import accuracy_score\n",
    "from sklearn.svm import SVC\n",
    "from sklearn.model_selection import train_test_split"
   ]
  },
  {
   "cell_type": "markdown",
   "metadata": {},
   "source": [
    "# 2. On charge les données"
   ]
  },
  {
   "cell_type": "code",
   "execution_count": 9,
   "metadata": {},
   "outputs": [],
   "source": [
    "# charger les données\n",
    "train = pd.read_csv('../data/Train.csv')\n",
    "test = pd.read_csv('../data/Test.csv')\n",
    "ss = pd.read_csv('../data/SubmissionFile.csv')\n",
    "variables = pd.read_csv('../data/VariableDefinitions.csv')"
   ]
  },
  {
   "cell_type": "code",
   "execution_count": 12,
   "metadata": {},
   "outputs": [
    {
     "data": {
      "text/html": [
       "<div>\n",
       "<style scoped>\n",
       "    .dataframe tbody tr th:only-of-type {\n",
       "        vertical-align: middle;\n",
       "    }\n",
       "\n",
       "    .dataframe tbody tr th {\n",
       "        vertical-align: top;\n",
       "    }\n",
       "\n",
       "    .dataframe thead th {\n",
       "        text-align: right;\n",
       "    }\n",
       "</style>\n",
       "<table border=\"1\" class=\"dataframe\">\n",
       "  <thead>\n",
       "    <tr style=\"text-align: right;\">\n",
       "      <th></th>\n",
       "      <th>country</th>\n",
       "      <th>year</th>\n",
       "      <th>uniqueid</th>\n",
       "      <th>bank_account</th>\n",
       "      <th>location_type</th>\n",
       "      <th>cellphone_access</th>\n",
       "      <th>household_size</th>\n",
       "      <th>age_of_respondent</th>\n",
       "      <th>gender_of_respondent</th>\n",
       "      <th>relationship_with_head</th>\n",
       "      <th>marital_status</th>\n",
       "      <th>education_level</th>\n",
       "      <th>job_type</th>\n",
       "    </tr>\n",
       "  </thead>\n",
       "  <tbody>\n",
       "    <tr>\n",
       "      <th>0</th>\n",
       "      <td>Kenya</td>\n",
       "      <td>2018</td>\n",
       "      <td>uniqueid_1</td>\n",
       "      <td>Yes</td>\n",
       "      <td>Rural</td>\n",
       "      <td>Yes</td>\n",
       "      <td>3</td>\n",
       "      <td>24</td>\n",
       "      <td>Female</td>\n",
       "      <td>Spouse</td>\n",
       "      <td>Married/Living together</td>\n",
       "      <td>Secondary education</td>\n",
       "      <td>Self employed</td>\n",
       "    </tr>\n",
       "    <tr>\n",
       "      <th>1</th>\n",
       "      <td>Kenya</td>\n",
       "      <td>2018</td>\n",
       "      <td>uniqueid_2</td>\n",
       "      <td>No</td>\n",
       "      <td>Rural</td>\n",
       "      <td>No</td>\n",
       "      <td>5</td>\n",
       "      <td>70</td>\n",
       "      <td>Female</td>\n",
       "      <td>Head of Household</td>\n",
       "      <td>Widowed</td>\n",
       "      <td>No formal education</td>\n",
       "      <td>Government Dependent</td>\n",
       "    </tr>\n",
       "    <tr>\n",
       "      <th>2</th>\n",
       "      <td>Kenya</td>\n",
       "      <td>2018</td>\n",
       "      <td>uniqueid_3</td>\n",
       "      <td>Yes</td>\n",
       "      <td>Urban</td>\n",
       "      <td>Yes</td>\n",
       "      <td>5</td>\n",
       "      <td>26</td>\n",
       "      <td>Male</td>\n",
       "      <td>Other relative</td>\n",
       "      <td>Single/Never Married</td>\n",
       "      <td>Vocational/Specialised training</td>\n",
       "      <td>Self employed</td>\n",
       "    </tr>\n",
       "  </tbody>\n",
       "</table>\n",
       "</div>"
      ],
      "text/plain": [
       "  country  year    uniqueid bank_account location_type cellphone_access  \\\n",
       "0   Kenya  2018  uniqueid_1          Yes         Rural              Yes   \n",
       "1   Kenya  2018  uniqueid_2           No         Rural               No   \n",
       "2   Kenya  2018  uniqueid_3          Yes         Urban              Yes   \n",
       "\n",
       "   household_size  age_of_respondent gender_of_respondent  \\\n",
       "0               3                 24               Female   \n",
       "1               5                 70               Female   \n",
       "2               5                 26                 Male   \n",
       "\n",
       "  relationship_with_head           marital_status  \\\n",
       "0                 Spouse  Married/Living together   \n",
       "1      Head of Household                  Widowed   \n",
       "2         Other relative     Single/Never Married   \n",
       "\n",
       "                   education_level              job_type  \n",
       "0              Secondary education         Self employed  \n",
       "1              No formal education  Government Dependent  \n",
       "2  Vocational/Specialised training         Self employed  "
      ]
     },
     "execution_count": 12,
     "metadata": {},
     "output_type": "execute_result"
    }
   ],
   "source": [
    "# Inspecter les données de train\n",
    "train.head(3)"
   ]
  },
  {
   "cell_type": "code",
   "execution_count": 13,
   "metadata": {},
   "outputs": [
    {
     "name": "stdout",
     "output_type": "stream",
     "text": [
      "Valeurs manquants: country                   0\n",
      "year                      0\n",
      "uniqueid                  0\n",
      "bank_account              0\n",
      "location_type             0\n",
      "cellphone_access          0\n",
      "household_size            0\n",
      "age_of_respondent         0\n",
      "gender_of_respondent      0\n",
      "relationship_with_head    0\n",
      "marital_status            0\n",
      "education_level           0\n",
      "job_type                  0\n",
      "dtype: int64\n"
     ]
    }
   ],
   "source": [
    "# Verifie les fichiers manquants\n",
    "print('Valeurs manquants:', train.isnull().sum())"
   ]
  },
  {
   "cell_type": "markdown",
   "metadata": {},
   "source": [
    "##### On constate qu'il ya pas de donnés manquants"
   ]
  },
  {
   "cell_type": "markdown",
   "metadata": {},
   "source": [
    "## 3. Preparation des données\n",
    "##### Avant de former le modèle de prédiction, vous devez effectuer un [nettoyage] (https://www.dataquest.io/blog/machine-learning-preparing-data/) et un [prétraitement] (https://towardsdatascience.com/data-preprocessing-concepts-fa946d11c825) des données. Il s'agit d'une étape très importante ; votre modèle ne sera pas performant sans ces étapes."
   ]
  },
  {
   "cell_type": "markdown",
   "metadata": {},
   "source": [
    "### On effectiue un fitting sur les données les plus pertinents du sample fourni"
   ]
  },
  {
   "cell_type": "code",
   "execution_count": 17,
   "metadata": {},
   "outputs": [],
   "source": [
    "features = ['job_type', 'cellphone_access', 'relationship_with_head', 'education_level', \n",
    "            'household_size', 'location_type', 'country']"
   ]
  },
  {
   "cell_type": "markdown",
   "metadata": {},
   "source": [
    "### On creer une fonction qui fait du preprocessing sur les données fournies"
   ]
  },
  {
   "cell_type": "code",
   "execution_count": 23,
   "metadata": {},
   "outputs": [],
   "source": [
    "def preparer_les_donnees(file_path):\n",
    "    data = pd.read_csv(file_path)\n",
    "\n",
    "    le = LabelEncoder()\n",
    "    if 'bank_account' in data:\n",
    "        # Pour le cas ou les données fournis sont les données d'entrainement\n",
    "        data['bank_account'] = le.fit_transform(data['bank_account'])\n",
    "    data['job_type'] = le.fit_transform(data['job_type'])\n",
    "\n",
    "    data['cellphone_access'] = le.fit_transform(data['cellphone_access'])\n",
    "\n",
    "    data['gender_of_respondent'] = le.fit_transform(data['gender_of_respondent'])\n",
    "\n",
    "    data['relationship_with_head'] = le.fit_transform(data['relationship_with_head'])\n",
    "\n",
    "    data['education_level'] = le.fit_transform(data['education_level'])\n",
    "\n",
    "    data['marital_status'] = le.fit_transform(data['marital_status'])\n",
    "    data['country'] = le.fit_transform(data['country'])\n",
    "\n",
    "    data['location_type'] = le.fit_transform(data['location_type'])\n",
    "\n",
    "    return data"
   ]
  },
  {
   "cell_type": "markdown",
   "metadata": {},
   "source": [
    "## 4. Build de notre modèle"
   ]
  },
  {
   "cell_type": "markdown",
   "metadata": {},
   "source": [
    "##### Une partie de l'ensemble de données d'entraînement sera utilisée pour évaluer nos modèles et trouver celui qui donne les meilleurs résultats avant de l'utiliser dans l'ensemble de données de test."
   ]
  },
  {
   "cell_type": "code",
   "execution_count": 20,
   "metadata": {},
   "outputs": [],
   "source": [
    "#  cette fonction separe les donnes de test et de train\n",
    "def split_data_and_target(data):\n",
    "    dataset = data[features]\n",
    "    target = data['bank_account']\n",
    "\n",
    "    return dataset, target"
   ]
  },
  {
   "cell_type": "markdown",
   "metadata": {},
   "source": [
    "##  On utilise **SVM** dans notre cas"
   ]
  },
  {
   "cell_type": "code",
   "execution_count": 31,
   "metadata": {},
   "outputs": [],
   "source": [
    "def appliquer_le_svm(data, target):\n",
    "    X_train, x_test, Y_train, y_test = train_test_split(data, target, test_size=0.3)\n",
    "    svc = SVC(gamma='auto', kernel='rbf', C=5)\n",
    "    svc.fit(X_train, Y_train)\n",
    "    pred = svc.predict(x_test)\n",
    "    print(\"SVM: Accuracy...\", accuracy_score(y_test, pred))\n",
    "    print(\"SVM: Mean Accuracy Error : \", 1 - accuracy_score(y_test, pred))\n",
    "    return svc"
   ]
  },
  {
   "cell_type": "markdown",
   "metadata": {},
   "source": [
    "#### Seuls 30% de l'ensemble de données de formation seront utilisés pour évaluer les modèles. Le paramètre 'stratify = y_target_train' assurera un équilibre égal des valeurs des deux classes ('oui' et 'non') pour les ensembles de formation et de validation."
   ]
  },
  {
   "cell_type": "markdown",
   "metadata": {},
   "source": [
    "## 5. Evalution et prédiction"
   ]
  },
  {
   "cell_type": "markdown",
   "metadata": {},
   "source": [
    "#### Cette fonction **evaluate_le_model_pour_submission** utilise le model apres nettoyage des données et effectue une prediction\n"
   ]
  },
  {
   "cell_type": "code",
   "execution_count": 36,
   "metadata": {},
   "outputs": [],
   "source": [
    "def evaluate_le_model_pour_submission(model):\n",
    "    submission_data = preparer_les_donnees('../data/Test.csv')\n",
    "    filtered_data = submission_data[features]\n",
    "    submission_pred = model.predict(filtered_data)    \n",
    "    return submission_pred"
   ]
  },
  {
   "cell_type": "code",
   "execution_count": 26,
   "metadata": {},
   "outputs": [],
   "source": [
    "def exporter_submission_data(predicted):\n",
    "    test = pd.read_csv('../data/Test.csv')\n",
    "    test['uniqueid'] = test['uniqueid'] + ' x ' + test['country']\n",
    "\n",
    "    submission = pd.DataFrame(columns=['uniqueid', 'bank_account'], data=test)\n",
    "    submission.bank_account = predicted\n",
    "\n",
    "    submission.to_csv('../soumettre/SubmissionFile.csv', index=False)"
   ]
  },
  {
   "cell_type": "markdown",
   "metadata": {},
   "source": [
    "#### Cette fonction montre le format de soumission pour ce challenge, avec la colonne \"uniqueID\" reflétant celle de \"Test.csv\" et la colonne \"bank_account\" contenant nos prédictions. \n",
    "#### L’identifiant de la variable dans le fichier de soumission est: uniqueid x country name."
   ]
  },
  {
   "cell_type": "markdown",
   "metadata": {},
   "source": [
    "## TEST"
   ]
  },
  {
   "cell_type": "code",
   "execution_count": 27,
   "metadata": {},
   "outputs": [],
   "source": [
    "def __main__():\n",
    "    result_data = preparer_les_donnees('../data/Train.csv')  # data\n",
    "    data, target = split_data_and_target(result_data)\n",
    "    model = appliquer_le_svm(data, target)    \n",
    "    predicted = evaluate_le_model_pour_submission(model)\n",
    "    exporter_submission_data(predicted)"
   ]
  },
  {
   "cell_type": "markdown",
   "metadata": {},
   "source": [
    "# RUN 😎"
   ]
  },
  {
   "cell_type": "code",
   "execution_count": 32,
   "metadata": {},
   "outputs": [
    {
     "name": "stdout",
     "output_type": "stream",
     "text": [
      "SVM: Accuracy..   0.8809861150467555\n",
      "SVM: Main accuracy error :   0.1190138849532445\n"
     ]
    }
   ],
   "source": [
    "__main__()"
   ]
  }
 ],
 "metadata": {
  "kernelspec": {
   "display_name": "Python 3.10.0 64-bit",
   "language": "python",
   "name": "python3"
  },
  "language_info": {
   "codemirror_mode": {
    "name": "ipython",
    "version": 3
   },
   "file_extension": ".py",
   "mimetype": "text/x-python",
   "name": "python",
   "nbconvert_exporter": "python",
   "pygments_lexer": "ipython3",
   "version": "3.10.0"
  },
  "orig_nbformat": 4,
  "vscode": {
   "interpreter": {
    "hash": "369f2c481f4da34e4445cda3fffd2e751bd1c4d706f27375911949ba6bb62e1c"
   }
  }
 },
 "nbformat": 4,
 "nbformat_minor": 2
}
